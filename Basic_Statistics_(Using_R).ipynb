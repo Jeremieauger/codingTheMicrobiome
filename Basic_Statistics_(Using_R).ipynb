{
  "nbformat": 4,
  "nbformat_minor": 0,
  "metadata": {
    "colab": {
      "name": "Basic Statistics (Using R).ipynb",
      "provenance": [],
      "collapsed_sections": [],
      "authorship_tag": "ABX9TyPT7ZbbGknE5L3tnmPX1XQV",
      "include_colab_link": true
    },
    "kernelspec": {
      "name": "ir",
      "display_name": "R"
    }
  },
  "cells": [
    {
      "cell_type": "markdown",
      "metadata": {
        "id": "view-in-github",
        "colab_type": "text"
      },
      "source": [
        "<a href=\"https://colab.research.google.com/github/Jeremieauger/codingTheMicrobiome/blob/master/Basic_Statistics_(Using_R).ipynb\" target=\"_parent\"><img src=\"https://colab.research.google.com/assets/colab-badge.svg\" alt=\"Open In Colab\"/></a>"
      ]
    },
    {
      "cell_type": "code",
      "metadata": {
        "id": "LF0GwQjD_pHe"
      },
      "source": [
        "# Calling all the libraries\n",
        "library(dplyr)\n"
      ],
      "execution_count": null,
      "outputs": []
    },
    {
      "cell_type": "markdown",
      "metadata": {
        "id": "OPb32zrwP7km"
      },
      "source": [
        "#14 Basic Statistics (Using R)\n",
        "\n",
        "By: Jérémie Auger - Feb. 2021\n",
        "\n",
        "Adapted from: https://bookdown.org/mikemahoney218/IDEAR/basic-statistics-using-r.html\n",
        "\n",
        "##14.1 Purpose of the Unit\n",
        "This isn’t a statistics book. However, R is a statistical computing language, and many of the functions built into R are designed for statistical purposes. As such, we’re going to very quickly go over some statistical terms and a few of the statistical functions built into R. That way, you’ll have a better understanding of what exactly it is that we’re doing in later chapters."
      ]
    },
    {
      "cell_type": "markdown",
      "metadata": {
        "id": "JSBVk0Yn7j3B"
      },
      "source": [
        "\n",
        "\n",
        "##14.2.1 Data Concepts\n",
        "We’ve already discussed some data concepts in this course, such as the ideas of rectangular and tidy data. However, those discussions are buried in the text of the last chapter, so are hard to refer to - and I want to make sure these concepts are all contained in the same place, for a clean reference section.\n",
        "\n",
        "###Vector\n",
        "*   Sequence of data elements of the same type\n",
        "*   Each element of the vector are also called components, members, or values\n",
        "*   Created in R using  c()\n",
        "\n",
        "###Dataframe\n",
        "*   A list of vectors of identical lengths\n",
        "*   Example:  iris \n",
        "\n",
        "###Variable\n",
        "*   A trait or condition that can exist in different quantities or types\n",
        "*   We measure the impacts of independent predictor variables on dependent response variables\n",
        "\n",
        "###Continuous Data\n",
        "*   Numeric data which is not restricted to certain values - there are an infinite number of possible values\n",
        "\n",
        "###Discrete Data\n",
        "*   Numeric data which is restricted to certain values - for example, number of kids (or trees, or animals) has to be a whole integer\n",
        "###Categorical Data\n",
        "*   Data which can only exist as one of a specific set of values - for example, house color or zip code; Binned numeric data (e.g. “between 1 and 2 inches”) is typically categorical\n",
        "####Binary Data\n",
        " *    Categorical data where the only values are 0 and 1\n",
        " *    Often used in situations where a “hit” - an animal getting trapped, a customer clicking a link, etc - is a 1, and no hit is a 0\n",
        "\n",
        "###Ordinal Data\n",
        "*   A type of categorical data where each value is assigned a level or rank\n",
        "*   Useful with binned data, but also in graphing to rearrange the order categories are drawn\n",
        "*   Referred to in R as “factors”\n",
        "\n",
        "###Unstructured Data\n",
        "*   Data without a strict format, typically composed of text\n",
        "*   R used to deal with unstructured data by converting it to factors; while this isn’t necessary anymore, some functions still require text data to be in factor form\n",
        "\n",
        "###Data Distribution\n",
        "*   How often every possible value occurs in a dataset\n",
        "*   Usually shown as a curved line on a graph, or a histogram\n",
        "\n",
        "###Normal Distribution\n",
        "*   Data where mean = median, 2/3 of the data are within one standard deviation of the mean, 95% of the data are within two SD and 97% are within 3. Many statistical analyses assume your data are normally distributed; Many datasets - especially in nature - aren’t\n",
        "\n",
        "###Skewed Distribution\n",
        "*   Data where the median does not equal the mean\n",
        "*   A left-skewed distribution has a long tail on the left side of the graph, while a right-skewed distribution has a long tail to the right\n",
        "*   Named after the tail and not the peak of the graph, as values in that tail occur more often than would be expected with a normal distribution\n",
        "\n",
        "\n",
        "\n",
        "\n"
      ]
    },
    {
      "cell_type": "code",
      "metadata": {
        "colab": {
          "base_uri": "https://localhost:8080/",
          "height": 437
        },
        "id": "a7AHvJbC7W_k",
        "outputId": "5672c7a4-428b-4447-f801-8eff2b5b57fb"
      },
      "source": [
        "# Demonstrating the skewed distributions - using the rbeta function to generate the distributions \n",
        "\n",
        "# Normal distribution, mean and median are equal\n",
        "hist(rbeta(10000,5,5), main = \"normal distribution\")\n"
      ],
      "execution_count": null,
      "outputs": [
        {
          "output_type": "display_data",
          "data": {
            "image/png": "[encoded data removed]",
            "text/plain": [
              "Plot with title “normal distribution”"
            ]
          },
          "metadata": {
            "tags": [],
            "image/png": {
              "width": 420,
              "height": 420
            }
          }
        }
      ]
    },
    {
      "cell_type": "code",
      "metadata": {
        "colab": {
          "base_uri": "https://localhost:8080/",
          "height": 437
        },
        "id": "E7cFnwMHBRUd",
        "outputId": "3c0abae5-bb21-4ae6-d409-80ea11e36126"
      },
      "source": [
        "# right-skewed distribution\n",
        "\n",
        "hist(rbeta(10000,2,5), main = \"right-skewed distribution\")\n"
      ],
      "execution_count": null,
      "outputs": [
        {
          "output_type": "display_data",
          "data": {
            "image/png": "[encoded data removed]",
            "text/plain": [
              "Plot with title “right-skewed distribution”"
            ]
          },
          "metadata": {
            "tags": [],
            "image/png": {
              "width": 420,
              "height": 420
            }
          }
        }
      ]
    },
    {
      "cell_type": "markdown",
      "metadata": {
        "id": "H4mlXJJm7mfw"
      },
      "source": [
        ""
      ]
    },
    {
      "cell_type": "code",
      "metadata": {
        "id": "43JlnliR7fV9",
        "colab": {
          "base_uri": "https://localhost:8080/",
          "height": 437
        },
        "outputId": "d63870a3-9aef-4af1-aa56-f478e5df3065"
      },
      "source": [
        "# left-skewed distribution\n",
        "\n",
        "hist(rbeta(10000,5,2), main = \"left-skewed distribution\")\n"
      ],
      "execution_count": null,
      "outputs": [
        {
          "output_type": "display_data",
          "data": {
            "image/png": "[encoded data removed]",
            "text/plain": [
              "Plot with title “left-skewed distribution”"
            ]
          },
          "metadata": {
            "tags": [],
            "image/png": {
              "width": 420,
              "height": 420
            }
          }
        }
      ]
    },
    {
      "cell_type": "markdown",
      "metadata": {
        "id": "kelP0mbzRl3A"
      },
      "source": [
        "##14.2.2 Statistical Terms\n",
        "###Estimate\n",
        "*   A statistic calculated from your data is called an estimate as we are approximating population-level values from sample data\n",
        "*   Synonynm: metric\n",
        "\n",
        "###Hypothesis Testing\n",
        "*   Comparing the null hypothesis (typically, that two quantities are equivalent) to an alternative hypothesis\n",
        "*   The alternative hypothesis in a two-tailed test is that the quantities are different, while the alternative hypothesis in a one-tailed test is that one quantity is larger or smaller than the other\n",
        "*   Almost never used in business, as the important question is usually not does x cause y but can x predict y\n",
        "\n",
        "###p Value:\n",
        "*   The probability of seeing an effect of the same size as our results given a random model\n",
        "*   High p values often mean your independent variables are irrelevant, but low p values don’t mean they’re important - that judgement requires a rational justification, and examining the effect size and importance. Otherwise you’re just equating correlation and causation.\n",
        "*   The 0.05 thing is from a single sentence, taken out of context, from a book published in 1925. There’s no reason to set a line in the sand for “significance” - 0.05 means that there’s a 1 in 20 probability your result could be random chance, and 0.056 means it’s 1 in 18. Those are almost identical odds.\n",
        "*   Some journals have banned their use altogether, but others still will only accept “significant” results\n",
        "\n",
        "#### --- Statement from the American Statistical Association:\n",
        " --- A p value, or statistical significance, does not measure the size of an effect or the importance of a result. By itself, a p value does not provide a good measure of evidence about a model or a hypothesis. ---\n",
        "\n",
        "\n",
        "###“Robust”\n",
        "*   A term meaning an estimate is less susceptible to outliers\n",
        "*   Means are not robust, while medians are, for instance.\n",
        "\n",
        "###Regression\n",
        "*   A method to analyze the impacts of independent variables on a dependent variable\n",
        "*   ANOVA and models are both types of regression analyses\n",
        "\n",
        "###General Linear Model\n",
        "*   Formulas representing the expected value of a response variable for given values of one or more predictors\n",
        "###The typical y = mx + b format of model\n",
        "*   Sometimes abbreviated GLM; R uses  lm()  to construct these\n",
        "\n",
        "###Generalized Linear Model\n",
        "*   Depending who you ask, these may or may not be linear models - they tweak the normal formula in one way or another to measure outcomes that general linear models can’t address\n",
        "*.  In this course, we’ll only be using logistic models\n",
        "*.  Sometimes abbreviated GLM; R uses  glm()  to construct these\n",
        "\n"
      ]
    },
    {
      "cell_type": "markdown",
      "metadata": {
        "id": "FPmJFlylTSdf"
      },
      "source": [
        "##14.2.2.1 Estimates and Statistics\n",
        "\n",
        "###n\n",
        "*   The number of observations of a dataset or level of a categorical.\n",
        "*   In R, run  nrow(dataframe)  or  length(Vector)  to calculate.\n",
        "\n",
        "\n",
        "```\n",
        "nrow(dataframe)\n",
        "length(Vector)\n",
        "```\n",
        "\n"
      ]
    },
    {
      "cell_type": "code",
      "metadata": {
        "colab": {
          "base_uri": "https://localhost:8080/",
          "height": 224
        },
        "id": "Sh3gyQZ-Ttfl",
        "outputId": "2a20a8cf-df88-4b7a-89d5-4f7300e98769"
      },
      "source": [
        "nrow(iris)\n",
        "length(iris$Sepal.Length);\n",
        "count(iris, Species) "
      ],
      "execution_count": null,
      "outputs": [
        {
          "output_type": "display_data",
          "data": {
            "text/plain": [
              "[1] 150"
            ],
            "text/latex": "150",
            "text/markdown": "150",
            "text/html": [
              "150"
            ]
          },
          "metadata": {
            "tags": []
          }
        },
        {
          "output_type": "display_data",
          "data": {
            "text/plain": [
              "[1] 150"
            ],
            "text/latex": "150",
            "text/markdown": "150",
            "text/html": [
              "150"
            ]
          },
          "metadata": {
            "tags": []
          }
        },
        {
          "output_type": "display_data",
          "data": {
            "text/plain": [
              "  Species    n \n",
              "1 setosa     50\n",
              "2 versicolor 50\n",
              "3 virginica  50"
            ],
            "text/latex": "A data.frame: 3 × 2\n\\begin{tabular}{r|ll}\n  & Species & n\\\\\n  & <fct> & <int>\\\\\n\\hline\n\t1 & setosa     & 50\\\\\n\t2 & versicolor & 50\\\\\n\t3 & virginica  & 50\\\\\n\\end{tabular}\n",
            "text/markdown": "\nA data.frame: 3 × 2\n\n| <!--/--> | Species &lt;fct&gt; | n &lt;int&gt; |\n|---|---|---|\n| 1 | setosa     | 50 |\n| 2 | versicolor | 50 |\n| 3 | virginica  | 50 |\n\n",
            "text/html": [
              "<table class=\"dataframe\">\n",
              "<caption>A data.frame: 3 × 2</caption>\n",
              "<thead>\n",
              "\t<tr><th></th><th scope=col>Species</th><th scope=col>n</th></tr>\n",
              "\t<tr><th></th><th scope=col>&lt;fct&gt;</th><th scope=col>&lt;int&gt;</th></tr>\n",
              "</thead>\n",
              "<tbody>\n",
              "\t<tr><th scope=row>1</th><td>setosa    </td><td>50</td></tr>\n",
              "\t<tr><th scope=row>2</th><td>versicolor</td><td>50</td></tr>\n",
              "\t<tr><th scope=row>3</th><td>virginica </td><td>50</td></tr>\n",
              "</tbody>\n",
              "</table>\n"
            ]
          },
          "metadata": {
            "tags": []
          }
        }
      ]
    },
    {
      "cell_type": "markdown",
      "metadata": {
        "id": "O0npSG0qUYf_"
      },
      "source": [
        "###Mean\n",
        "*   The average of a dataset, defined as the sum of all observations divided by the number of observations.\n",
        "\n",
        "\n",
        "```\n",
        "mean(Vector)\n",
        "```\n",
        "\n"
      ]
    },
    {
      "cell_type": "code",
      "metadata": {
        "colab": {
          "base_uri": "https://localhost:8080/",
          "height": 34
        },
        "id": "9dTBh6XuUdYu",
        "outputId": "dcbdca5d-6b99-4c7f-d9e4-c801ad10ed04"
      },
      "source": [
        "mean(iris$Sepal.Length)"
      ],
      "execution_count": null,
      "outputs": [
        {
          "output_type": "display_data",
          "data": {
            "text/plain": [
              "[1] 5.843333"
            ],
            "text/latex": "5.84333333333333",
            "text/markdown": "5.84333333333333",
            "text/html": [
              "5.84333333333333"
            ]
          },
          "metadata": {
            "tags": []
          }
        }
      ]
    },
    {
      "cell_type": "markdown",
      "metadata": {
        "id": "xBO3u_5TUiu8"
      },
      "source": [
        "###Variance\n",
        "*   A measure of the spread of your data.\n",
        "```\n",
        "var(Vector) \n",
        "```\n"
      ]
    },
    {
      "cell_type": "code",
      "metadata": {
        "colab": {
          "base_uri": "https://localhost:8080/",
          "height": 34
        },
        "id": "wBC42pXDU0Br",
        "outputId": "db7fdbe2-2b09-45fd-e87e-e80d6d639bad"
      },
      "source": [
        "var(iris$Sepal.Length) "
      ],
      "execution_count": null,
      "outputs": [
        {
          "output_type": "display_data",
          "data": {
            "text/plain": [
              "[1] 0.6856935"
            ],
            "text/latex": "0.685693512304251",
            "text/markdown": "0.685693512304251",
            "text/html": [
              "0.685693512304251"
            ]
          },
          "metadata": {
            "tags": []
          }
        }
      ]
    },
    {
      "cell_type": "markdown",
      "metadata": {
        "id": "y5NxkQ5PU7v1"
      },
      "source": [
        "###Standard Deviation\n",
        "*   The amount any observation can be expected to differ from the mean.\n",
        "```\n",
        "sd(Vector) \n",
        "```\n"
      ]
    },
    {
      "cell_type": "code",
      "metadata": {
        "colab": {
          "base_uri": "https://localhost:8080/",
          "height": 34
        },
        "id": "3UKBlqDjU-MN",
        "outputId": "6494ce62-b607-46c0-f54d-ff029a676289"
      },
      "source": [
        "sd(iris$Sepal.Length) "
      ],
      "execution_count": null,
      "outputs": [
        {
          "output_type": "display_data",
          "data": {
            "text/plain": [
              "[1] 0.8280661"
            ],
            "text/latex": "0.828066127977863",
            "text/markdown": "0.828066127977863",
            "text/html": [
              "0.828066127977863"
            ]
          },
          "metadata": {
            "tags": []
          }
        }
      ]
    },
    {
      "cell_type": "markdown",
      "metadata": {
        "id": "yNj6m8IMVCAU"
      },
      "source": [
        "###Standard Error\n",
        "*   The error associated with a point estimate (e.g. the mean) of the sample.\n",
        "*   If you’re reporting the mean of a sample variable, use the SD. If you’re putting error bars around means on a graph, use the SE.\n",
        "\n",
        "```\n",
        "# No native function in R - run  \n",
        "sd(Vector)/sqrt(length(Vector))\n",
        "```\n"
      ]
    },
    {
      "cell_type": "code",
      "metadata": {
        "colab": {
          "base_uri": "https://localhost:8080/",
          "height": 34
        },
        "id": "6zqRapR4VWxo",
        "outputId": "1557a68b-2a42-4a37-f2bc-76684da62753"
      },
      "source": [
        "sd(iris$Sepal.Length)/sqrt(length(iris$Sepal.Length)) "
      ],
      "execution_count": null,
      "outputs": [
        {
          "output_type": "display_data",
          "data": {
            "text/plain": [
              "[1] 0.06761132"
            ],
            "text/latex": "0.0676113162275986",
            "text/markdown": "0.0676113162275986",
            "text/html": [
              "0.0676113162275986"
            ]
          },
          "metadata": {
            "tags": []
          }
        }
      ]
    },
    {
      "cell_type": "markdown",
      "metadata": {
        "id": "d9z97e7kVaUs"
      },
      "source": [
        "###Median Absolute Deviation from the Median\n",
        "*   Average distance between each datapoint and - in R - the median; A measure of spread in your data\n",
        "*   Note that MAD often means mean absolute deviation from the mean, mean absolute deviation from the median, and a few other less common things - check your acronyms before using!\n",
        "```\n",
        "mad(Vector) \n",
        "```"
      ]
    },
    {
      "cell_type": "code",
      "metadata": {
        "colab": {
          "base_uri": "https://localhost:8080/",
          "height": 34
        },
        "id": "Wa2bzbMeVtQZ",
        "outputId": "89fd1308-cfca-42a9-e8a3-b67890fdcf02"
      },
      "source": [
        "mad(iris$Sepal.Length) "
      ],
      "execution_count": null,
      "outputs": [
        {
          "output_type": "display_data",
          "data": {
            "text/plain": [
              "[1] 1.03782"
            ],
            "text/latex": "1.03782",
            "text/markdown": "1.03782",
            "text/html": [
              "1.03782"
            ]
          },
          "metadata": {
            "tags": []
          }
        }
      ]
    },
    {
      "cell_type": "markdown",
      "metadata": {
        "id": "kVGcJ6kUV6Nk"
      },
      "source": [
        "###Median\n",
        "*   A robust estimate of the center of the data.\n",
        "```\n",
        "median(Vector) \n",
        "```"
      ]
    },
    {
      "cell_type": "code",
      "metadata": {
        "colab": {
          "base_uri": "https://localhost:8080/",
          "height": 34
        },
        "id": "Q61zCVqYV7Ql",
        "outputId": "9c0cf9bd-4a68-4016-d800-497037c073f6"
      },
      "source": [
        "median(iris$Sepal.Length)"
      ],
      "execution_count": null,
      "outputs": [
        {
          "output_type": "display_data",
          "data": {
            "text/plain": [
              "[1] 5.8"
            ],
            "text/latex": "5.8",
            "text/markdown": "5.8",
            "text/html": [
              "5.8"
            ]
          },
          "metadata": {
            "tags": []
          }
        }
      ]
    },
    {
      "cell_type": "markdown",
      "metadata": {
        "id": "yQIJzz-2WN11"
      },
      "source": [
        "###Minimum / Maximum\n",
        "*   The smallest value.\n",
        "```\n",
        "min(Vector) \n",
        "```\n",
        "*   The largest value.\n",
        "```\n",
        "max(Vector)\n",
        "```\n"
      ]
    },
    {
      "cell_type": "code",
      "metadata": {
        "colab": {
          "base_uri": "https://localhost:8080/",
          "height": 51
        },
        "id": "Gz8VMNi8WkMs",
        "outputId": "1522866e-10d8-4f49-e337-ec8c6745225a"
      },
      "source": [
        "# Minimum sepal lenght \n",
        "min(iris$Sepal.Length)\n",
        "# Maximum sepal lenght \n",
        "max(iris$Sepal.Length) "
      ],
      "execution_count": null,
      "outputs": [
        {
          "output_type": "display_data",
          "data": {
            "text/plain": [
              "[1] 4.3"
            ],
            "text/latex": "4.3",
            "text/markdown": "4.3",
            "text/html": [
              "4.3"
            ]
          },
          "metadata": {
            "tags": []
          }
        },
        {
          "output_type": "display_data",
          "data": {
            "text/plain": [
              "[1] 7.9"
            ],
            "text/latex": "7.9",
            "text/markdown": "7.9",
            "text/html": [
              "7.9"
            ]
          },
          "metadata": {
            "tags": []
          }
        }
      ]
    },
    {
      "cell_type": "markdown",
      "metadata": {
        "id": "VtZLWMbVW8gZ"
      },
      "source": [
        "###Range\n",
        "*   The maximum minus the minimum.\n",
        "```\n",
        "max(Vector) - min(Vector) \n",
        "```\n"
      ]
    },
    {
      "cell_type": "code",
      "metadata": {
        "colab": {
          "base_uri": "https://localhost:8080/",
          "height": 34
        },
        "id": "gcCJd4oUW9uu",
        "outputId": "1684d0c0-9c27-446d-f460-b8c675e4c371"
      },
      "source": [
        "max(iris$Sepal.Length) - min(iris$Sepal.Length) "
      ],
      "execution_count": null,
      "outputs": [
        {
          "output_type": "display_data",
          "data": {
            "text/plain": [
              "[1] 3.6"
            ],
            "text/latex": "3.6",
            "text/markdown": "3.6",
            "text/html": [
              "3.6"
            ]
          },
          "metadata": {
            "tags": []
          }
        }
      ]
    },
    {
      "cell_type": "markdown",
      "metadata": {
        "id": "vToCDNfwXQsZ"
      },
      "source": [
        "###Quantile\n",
        "*   The n quantile is the value at which, for a given vector, n percent of the data is below that value.\n",
        "\n",
        "###Ranges from 0-1. Quantile * 100 = percentile.\n",
        "*   Quartiles are the 0.25, 0.5, and 0.75 quantiles\n",
        "```\n",
        "quantile(Vector, c(quantiles that you want)) \n",
        "```\n"
      ]
    },
    {
      "cell_type": "code",
      "metadata": {
        "colab": {
          "base_uri": "https://localhost:8080/",
          "height": 34
        },
        "id": "QfIID6L_XROe",
        "outputId": "f208f547-548a-4d80-c704-949cb88bd73e"
      },
      "source": [
        "quantile(iris$Sepal.Length, c(0.25, 0.5, 0.75))"
      ],
      "execution_count": null,
      "outputs": [
        {
          "output_type": "display_data",
          "data": {
            "text/plain": [
              "25% 50% 75% \n",
              "5.1 5.8 6.4 "
            ],
            "text/latex": "\\begin{description*}\n\\item[25\\textbackslash{}\\%] 5.1\n\\item[50\\textbackslash{}\\%] 5.8\n\\item[75\\textbackslash{}\\%] 6.4\n\\end{description*}\n",
            "text/markdown": "25%\n:   5.150%\n:   5.875%\n:   6.4\n\n",
            "text/html": [
              "<style>\n",
              ".dl-inline {width: auto; margin:0; padding: 0}\n",
              ".dl-inline>dt, .dl-inline>dd {float: none; width: auto; display: inline-block}\n",
              ".dl-inline>dt::after {content: \":\\0020\"; padding-right: .5ex}\n",
              ".dl-inline>dt:not(:first-of-type) {padding-left: .5ex}\n",
              "</style><dl class=dl-inline><dt>25%</dt><dd>5.1</dd><dt>50%</dt><dd>5.8</dd><dt>75%</dt><dd>6.4</dd></dl>\n"
            ]
          },
          "metadata": {
            "tags": []
          }
        }
      ]
    },
    {
      "cell_type": "markdown",
      "metadata": {
        "id": "6nrypu9OXcV3"
      },
      "source": [
        "\n",
        "###Interquartile Range\n",
        "*   The middle 50% of the data, contained between the 0.25 and 0.75 quantiles\n",
        "```\n",
        "IQR(Vector) \n",
        "```\n"
      ]
    },
    {
      "cell_type": "code",
      "metadata": {
        "colab": {
          "base_uri": "https://localhost:8080/",
          "height": 34
        },
        "id": "5isdx-sxXeEK",
        "outputId": "b9bfc35e-e552-4122-f70c-5590dbf4b874"
      },
      "source": [
        "IQR(iris$Sepal.Length) "
      ],
      "execution_count": null,
      "outputs": [
        {
          "output_type": "display_data",
          "data": {
            "text/plain": [
              "[1] 1.3"
            ],
            "text/latex": "1.3",
            "text/markdown": "1.3",
            "text/html": [
              "1.3"
            ]
          },
          "metadata": {
            "tags": []
          }
        }
      ]
    },
    {
      "cell_type": "markdown",
      "metadata": {
        "id": "wVLeVokaXuDM"
      },
      "source": [
        "##14.2.3 Models and Tests\n",
        " -- Note that most tests discussed here default to a 95% confidence level and a two-tailed test. If you want to learn how to change those for any function, type  ?FunctionName() . Functions not applicable to the  iris()  dataset do not currently have examples underneath them. --\n",
        "\n",
        "###t Test\n",
        "*   A method of comparing the means of two groups\n",
        "*   If your group variable has more than two levels, don’t use a t test - use an ANOVA instead\n",
        "```\n",
        "t.test(Vector1, Vector2) \n",
        "```\n",
        "\n",
        "###Chi-squared Test\n",
        "*   A test to see if two categorical variables are related\n",
        "*   The null hypothesis is that both variables are independent from one another\n",
        "*  For more information - particularly on what form your data should be in - please [see this site](http://www.r-tutor.com/elementary-statistics/goodness-fit/chi-squared-test-independence).\n",
        "```\n",
        "chisq.test(Vector1, Vector2)\n",
        "```\n",
        "\n",
        "###Linear Models\n",
        "*   A type of regression which predicts the value of a response variable at given values of independent predictor variables\n",
        "*   If you need help understanding linear models, [here’s a lecture from Penn State](https://onlinecourses.science.psu.edu/stat501/node/250/).\n",
        "*   The most important thing for our purposes is understanding that models are made up of terms, which are the predictor variables you give it, and coefficients, which are multiplied by those terms to calculate the value of our response.\n",
        "*   Larger coefficients generally mean that variable is more important than others in the model, but only if the variables share units - one (much argued-over) way to compare coefficients between variables with different units is [discussed here](http://www.demog.berkeley.edu/~andrew/teaching/standard_coeff.pdf_)\n",
        "*   Linear models also include an intercept term, which isn’t multiplied with any variable. This term being “significant” at p = whatever means literally nothing, and if it’s your only significant term, your model is useless.\n",
        "```\n",
        "lm(ResponseVector ~ PredictorVectors, data) \n",
        "```\n"
      ]
    },
    {
      "cell_type": "code",
      "metadata": {
        "colab": {
          "base_uri": "https://localhost:8080/",
          "height": 136
        },
        "id": "YEwbTwsIkRwY",
        "outputId": "db3e1da7-b013-4e5d-c28e-309b2ebd4c4d"
      },
      "source": [
        "data(iris)\n",
        " \n",
        "lm(Sepal.Length ~ Species, data = iris)"
      ],
      "execution_count": null,
      "outputs": [
        {
          "output_type": "display_data",
          "data": {
            "text/plain": [
              "\n",
              "Call:\n",
              "lm(formula = Sepal.Length ~ Species, data = iris)\n",
              "\n",
              "Coefficients:\n",
              "      (Intercept)  Speciesversicolor   Speciesvirginica  \n",
              "            5.006              0.930              1.582  \n"
            ]
          },
          "metadata": {
            "tags": []
          }
        }
      ]
    },
    {
      "cell_type": "markdown",
      "metadata": {
        "id": "xapS077AmqK1"
      },
      "source": [
        "###Logistic Models\n",
        "*  A form of generalized linear model where the predictor variable is a binary vector\n",
        "*  Extremely common in science and business to predict events - if a tree or animal will die, if a sale will be made, etc\n",
        " ```\n",
        "glm(ResponseVector ~ PredictorVectors, data, family = \"binomial\") \n",
        "```\n",
        "\n",
        "###ANOVA\n",
        "*   A test to identify the impacts of one or more categorical variables on one or more numeric response variables\n",
        "*   An altered form of the linear model\n",
        "*   [This blog post](https://dynamicecology.wordpress.com/2014/10/02/interpreting-anova-interactions-and-model-selection/) does an interesting treatment on how to interpret ANOVA results with significant interactions \n",
        "```\n",
        "anova(lm(ResponseVector ~ PredictorVectors, data))\n",
        "```\n",
        "\n",
        "*   Normally, you’ll save your model to an object using  <- , then run  anova()  on that object - so  ```model <- lm(Sepal.Length ~ Species, data = iris)``` , then  ```anova(model)```  - though nesting your functions as above returns the same result\n"
      ]
    },
    {
      "cell_type": "code",
      "metadata": {
        "colab": {
          "base_uri": "https://localhost:8080/",
          "height": 159
        },
        "id": "aeFBNAGlpBVp",
        "outputId": "3df4d119-9b1c-4691-c4de-ab296c52976d"
      },
      "source": [
        "model <- lm(Sepal.Length ~ Species, data = iris) \n",
        "anova(model)"
      ],
      "execution_count": null,
      "outputs": [
        {
          "output_type": "display_data",
          "data": {
            "text/plain": [
              "          Df  Sum Sq   Mean Sq    F value  Pr(>F)      \n",
              "Species     2 63.21213 31.6060667 119.2645 1.669669e-31\n",
              "Residuals 147 38.95620  0.2650082       NA           NA"
            ],
            "text/latex": "A anova: 2 × 5\n\\begin{tabular}{r|lllll}\n  & Df & Sum Sq & Mean Sq & F value & Pr(>F)\\\\\n  & <int> & <dbl> & <dbl> & <dbl> & <dbl>\\\\\n\\hline\n\tSpecies &   2 & 63.21213 & 31.6060667 & 119.2645 & 1.669669e-31\\\\\n\tResiduals & 147 & 38.95620 &  0.2650082 &       NA &           NA\\\\\n\\end{tabular}\n",
            "text/markdown": "\nA anova: 2 × 5\n\n| <!--/--> | Df &lt;int&gt; | Sum Sq &lt;dbl&gt; | Mean Sq &lt;dbl&gt; | F value &lt;dbl&gt; | Pr(&gt;F) &lt;dbl&gt; |\n|---|---|---|---|---|---|\n| Species |   2 | 63.21213 | 31.6060667 | 119.2645 | 1.669669e-31 |\n| Residuals | 147 | 38.95620 |  0.2650082 |       NA |           NA |\n\n",
            "text/html": [
              "<table class=\"dataframe\">\n",
              "<caption>A anova: 2 × 5</caption>\n",
              "<thead>\n",
              "\t<tr><th></th><th scope=col>Df</th><th scope=col>Sum Sq</th><th scope=col>Mean Sq</th><th scope=col>F value</th><th scope=col>Pr(&gt;F)</th></tr>\n",
              "\t<tr><th></th><th scope=col>&lt;int&gt;</th><th scope=col>&lt;dbl&gt;</th><th scope=col>&lt;dbl&gt;</th><th scope=col>&lt;dbl&gt;</th><th scope=col>&lt;dbl&gt;</th></tr>\n",
              "</thead>\n",
              "<tbody>\n",
              "\t<tr><th scope=row>Species</th><td>  2</td><td>63.21213</td><td>31.6060667</td><td>119.2645</td><td>1.669669e-31</td></tr>\n",
              "\t<tr><th scope=row>Residuals</th><td>147</td><td>38.95620</td><td> 0.2650082</td><td>      NA</td><td>          NA</td></tr>\n",
              "</tbody>\n",
              "</table>\n"
            ]
          },
          "metadata": {
            "tags": []
          }
        }
      ]
    },
    {
      "cell_type": "markdown",
      "metadata": {
        "id": "AENCp2s5p4OS"
      },
      "source": [
        "##14.2.4 How We’ll Compare Models \n",
        "\n",
        "-There are plenty of different ways to compare models, each with their own proponents and detractors. Rather than wade into those arguments, we’re going to use three of the most common metrics. Other metrics (RMSE, PRESS, BIC, etc) can also be generated from R’s modeling functions, but we won’t go into depth on those.\n",
        "\n",
        "###R2\n",
        "*   The percentage of variance in your data explained by your regression\n",
        "*   The more independent predictor variables in a model, the higher the R2, all else being equal\n",
        "*   The adjusted R2 is a better estimate of regression goodness-of-fit, as it adjusts for the number of variables in a model\n",
        "```\n",
        "summary(lm(ResponseVector ~ PredictorVector, data)) \n"
      ]
    },
    {
      "cell_type": "code",
      "metadata": {
        "colab": {
          "base_uri": "https://localhost:8080/",
          "height": 340
        },
        "id": "uAq7HsD6p7Yw",
        "outputId": "b0d6eca5-9275-421a-935a-bc494309f682"
      },
      "source": [
        "model <- lm(Sepal.Length ~ Species, iris)\n",
        "summary(model) "
      ],
      "execution_count": null,
      "outputs": [
        {
          "output_type": "display_data",
          "data": {
            "text/plain": [
              "\n",
              "Call:\n",
              "lm(formula = Sepal.Length ~ Species, data = iris)\n",
              "\n",
              "Residuals:\n",
              "    Min      1Q  Median      3Q     Max \n",
              "-1.6880 -0.3285 -0.0060  0.3120  1.3120 \n",
              "\n",
              "Coefficients:\n",
              "                  Estimate Std. Error t value Pr(>|t|)    \n",
              "(Intercept)         5.0060     0.0728  68.762  < 2e-16 ***\n",
              "Speciesversicolor   0.9300     0.1030   9.033 8.77e-16 ***\n",
              "Speciesvirginica    1.5820     0.1030  15.366  < 2e-16 ***\n",
              "---\n",
              "Signif. codes:  0 ‘***’ 0.001 ‘**’ 0.01 ‘*’ 0.05 ‘.’ 0.1 ‘ ’ 1\n",
              "\n",
              "Residual standard error: 0.5148 on 147 degrees of freedom\n",
              "Multiple R-squared:  0.6187,\tAdjusted R-squared:  0.6135 \n",
              "F-statistic: 119.3 on 2 and 147 DF,  p-value: < 2.2e-16\n"
            ]
          },
          "metadata": {
            "tags": []
          }
        }
      ]
    },
    {
      "cell_type": "markdown",
      "metadata": {
        "id": "lvidtjQIqoPt"
      },
      "source": [
        "###RMSE\n",
        "*   Root-mean square error\n",
        "*   Standard deviation of the residuals - so tells you how accurate your model is\n",
        "*   Lower == better\n",
        "\n",
        "###Receiver Operating Characteristic Curve\n",
        "*   R2 isn’t applicable to logistic models\n",
        "*   Instead, we calculate the area under the ROC curve, with the area under the curve being abbreviated AUC\n",
        "*   AUC represents the accuracy of your model, with random guessing having an AUC of 0.5 and a perfect model having an AUC of 1\n",
        "*   AUC is sometimes referred to as the c-statistic\n",
        "\n",
        "###AIC:\n",
        "*   Akaike Information Criterion\n",
        "*   For a single dataset, the model with the smallest AIC is your best model\n",
        "*   But models with a ΔAIC (the difference between their two AICs) of < 2 (or 4, depending who you ask) are statistically identical\n",
        "*   If your model has a ΔAIC of < 2 with the null model, it’s useless"
      ]
    },
    {
      "cell_type": "markdown",
      "metadata": {
        "id": "PEHDKGtMq50y"
      },
      "source": [
        "###Cross Validation:\n",
        "*   A method in which data is split into separate training and testing datasets, to evaluate the performance of the model on new data\n",
        "*   The gold standard for examining model performance is for a model to be trained and tuned using the training datasets, then tested once and only once by generating predictions and calculating accuracy for the test dataset. You then report the statistics from this test.\n",
        "*   A variation is k-fold cross validation, where the dataset is split into k sections. Models are then trained using every combination of k-1 sections (so if k = 3, three separate models would be trained on the combined 1st and 2nd, 2nd and 3rd, and 1st and 3rd datasets) and tested on the one section not included.\n",
        "*   More information on cross validation and its implementation in [R here](http://www.sthda.com/english/articles/38-regression-model-validation/157-cross-validation-essentials-in-r/)\n"
      ]
    },
    {
      "cell_type": "markdown",
      "metadata": {
        "id": "xf8SSxAgsJj-"
      },
      "source": [
        "##14.3 Exercises\n",
        "*   All examples here use the  Orange  dataset, which is automatically included in R. Note that the O is capitalized!\n",
        " *   1.\tLook at  Orange  using either head or  as.tibble()  (you’ll have to run  library(tidyverse)  for that second option). What type of data are each of the columns?\n",
        " *   2.\tFind the mean, standard deviation, and standard error of tree circumference.\n",
        " *   3.\tMake a linear model which describes circumference (the response) as a function of age (the predictor). Save it as an object with  <- , then print the object out by typing its name. What do those coefficients mean?\n",
        " *   4.\tMake another linear model describing age as a function of circumference. Save this as a different object.\n",
        " *   5.\tCall  summary()  on both of your model objects. What do you notice?\n",
        " *   6.\tDoes this mean that trees growing makes them get older? Does a tree getting older make it grow larger? Or are these just correlations?\n",
        " *   7.\tDoes the significant p value prove that trees growing makes them get older? Why not?\n"
      ]
    }
  ]
}